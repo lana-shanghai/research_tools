{
 "cells": [
  {
   "cell_type": "markdown",
   "metadata": {},
   "source": [
    "# Description and implementation of the Union-Find algorithm"
   ]
  },
  {
   "cell_type": "markdown",
   "metadata": {},
   "source": [
    "### After applying a set of heuristics that indicate that a set of addresses belong to one user, we obtain sets of addresses that are likely to belong together. In order to get the cluster that includes all the addresses associated with a particular one entity, an algorithm that finds intersections of every two lists and merges them into one if their intersection is non-empty. "
   ]
  },
  {
   "cell_type": "markdown",
   "metadata": {},
   "source": [
    "Example: \n",
    "\n",
    "    list_1 = [address_1, address_2, address_3]\n",
    "    list_2 = [address_2, address_4]\n",
    "   \n",
    "The lists are expected to be merged into a cluster containing {address_1, address_2, address_3 address_4}.\n",
    "These clusters should have each address appear only once, and all pairwise intersections should be empty. "
   ]
  },
  {
   "cell_type": "code",
   "execution_count": 1,
   "metadata": {},
   "outputs": [],
   "source": [
    "from union_find_functions import *"
   ]
  },
  {
   "cell_type": "markdown",
   "metadata": {},
   "source": [
    "\n",
    "Here is a simple example of what output the algorithm should produce:\n"
   ]
  },
  {
   "cell_type": "code",
   "execution_count": 2,
   "metadata": {},
   "outputs": [],
   "source": [
    "groups = [['a', 'b', 'c'],['a', 'e'],['b', 'f'],['f','g'],['h', 'i'],['i', 'k', 'l']]\n",
    "\n",
    "mapping = map_groups(groups)\n",
    "cluster_mapping = get_cluster_mapping(mapping)\n",
    "groups_to_merge = to_merge(mapping)\n",
    "clustering = cluster_groups(groups_to_merge, cluster_mapping)"
   ]
  },
  {
   "cell_type": "markdown",
   "metadata": {},
   "source": [
    "The keys of clustering dictionary are the numbers of the first group out of the groups that were merged into that cluster. "
   ]
  },
  {
   "cell_type": "code",
   "execution_count": 3,
   "metadata": {},
   "outputs": [
    {
     "data": {
      "text/plain": [
       "{0: ['e', 'f', 'c', 'g', 'b', 'a'], 4: ['l', 'k', 'i', 'h']}"
      ]
     },
     "execution_count": 3,
     "metadata": {},
     "output_type": "execute_result"
    }
   ],
   "source": [
    "clustering"
   ]
  },
  {
   "cell_type": "code",
   "execution_count": null,
   "metadata": {},
   "outputs": [],
   "source": []
  }
 ],
 "metadata": {
  "kernelspec": {
   "display_name": "Python 3",
   "language": "python",
   "name": "python3"
  },
  "language_info": {
   "codemirror_mode": {
    "name": "ipython",
    "version": 3
   },
   "file_extension": ".py",
   "mimetype": "text/x-python",
   "name": "python",
   "nbconvert_exporter": "python",
   "pygments_lexer": "ipython3",
   "version": "3.7.0"
  }
 },
 "nbformat": 4,
 "nbformat_minor": 2
}
