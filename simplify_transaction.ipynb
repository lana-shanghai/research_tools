{
 "cells": [
  {
   "cell_type": "markdown",
   "metadata": {},
   "source": [
    "# Simplify transaction"
   ]
  },
  {
   "cell_type": "markdown",
   "metadata": {},
   "source": [
    "### This a pre-processing procedure that is applied to every transaction. Simplification means checking if the same address appears more than once among the inputs and outputs, and merging it into one input or output (depending whether more BTC flows in or out for an address). "
   ]
  },
  {
   "cell_type": "markdown",
   "metadata": {},
   "source": [
    "Definition of simplification can be found in paper Shared Send Untangling https://bitfury.com/content/downloads/bitfury_whitepaper_shared_send_untangling_in_bitcoin_8_24_2016.pdf"
   ]
  },
  {
   "cell_type": "code",
   "execution_count": 1,
   "metadata": {},
   "outputs": [],
   "source": [
    "def simplify(tx):\n",
    "    \n",
    "    new_tx = {'inputs':[],'outputs':[]}\n",
    "    input_addresses = [i['address'] for i in tx['inputs']]\n",
    "    output_addresses = [j['address'] for j in tx['outputs']]\n",
    "\n",
    "    addresses = [i['address'] for i in tx['inputs']] + [j['address'] for j in tx['outputs']]\n",
    "    addresses_set = list(set(addresses))\n",
    "    \n",
    "    repeated_input_addresses = [address for address in addresses_set if addresses.count(address) > 1]\n",
    "    repeated_output_addresses = [address for address in addresses_set if addresses.count(address) > 1]\n",
    "    \n",
    "    once_appeared_input_addresses = [address for address in input_addresses if addresses.count(address) == 1]\n",
    "    once_appeared_output_addresses = [address for address in output_addresses if addresses.count(address) == 1]\n",
    "    \n",
    "    for address in once_appeared_input_addresses:\n",
    "        for i in tx['inputs']:\n",
    "            if i['address'] == address:\n",
    "                new_tx['inputs'].append(i)\n",
    "\n",
    "    for address in once_appeared_output_addresses:\n",
    "        for i in tx['outputs']:\n",
    "            if i['address'] == address:\n",
    "                new_tx['outputs'].append(i)\n",
    "\n",
    "    for address in repeated_input_addresses:\n",
    "        if address in input_addresses and address not in output_addresses:\n",
    "            new_tx['inputs'].append({\n",
    "                'address':address,\n",
    "                'value':sum([i['value'] for i in tx['inputs'] if i['address'] == address])\n",
    "                })\n",
    "\n",
    "    for address in repeated_output_addresses:\n",
    "        if address in output_addresses and address not in input_addresses:\n",
    "            new_tx['outputs'].append({\n",
    "                'address':address,\n",
    "                'value':sum([i['value'] for i in tx['outputs'] if i['address'] == address])\n",
    "                })\n",
    "        else:\n",
    "            if sum([i['value'] for i in tx['outputs'] if i['address'] == address]) > sum([i['value'] for i in tx['inputs'] if i['address'] == address]):\n",
    "                new_tx['outputs'].append({\n",
    "                'address':address,\n",
    "                'value':sum([i['value'] for i in tx['outputs'] if i['address'] == address]) - sum([i['value'] for i in tx['inputs'] if i['address'] == address])\n",
    "                })\n",
    "            else:\n",
    "                new_tx['inputs'].append({\n",
    "                'address':address,\n",
    "                'value':sum([i['value'] for i in tx['inputs'] if i['address'] == address]) - sum([i['value'] for i in tx['outputs'] if i['address'] == address])\n",
    "                })\n",
    "\n",
    "    return new_tx"
   ]
  },
  {
   "cell_type": "markdown",
   "metadata": {},
   "source": [
    "Here is how it is supposed to work on a transaction:"
   ]
  },
  {
   "cell_type": "code",
   "execution_count": 2,
   "metadata": {},
   "outputs": [],
   "source": [
    "t = {\n",
    "    'inputs':[{'address':'a', 'value':5},\n",
    "              {'address':'b', 'value':5},\n",
    "              {'address':'c', 'value':10.1}],\n",
    "    'outputs':[{'address':'a', 'value':4},\n",
    "               {'address':'b', 'value':6},\n",
    "               {'address':'d', 'value':10}]\n",
    "}"
   ]
  },
  {
   "cell_type": "code",
   "execution_count": 3,
   "metadata": {},
   "outputs": [
    {
     "data": {
      "text/plain": [
       "{'inputs': [{'address': 'c', 'value': 10.1}, {'address': 'a', 'value': 1}],\n",
       " 'outputs': [{'address': 'd', 'value': 10}, {'address': 'b', 'value': 1}]}"
      ]
     },
     "execution_count": 3,
     "metadata": {},
     "output_type": "execute_result"
    }
   ],
   "source": [
    "simplify(t)"
   ]
  },
  {
   "cell_type": "code",
   "execution_count": null,
   "metadata": {},
   "outputs": [],
   "source": []
  }
 ],
 "metadata": {
  "kernelspec": {
   "display_name": "Python 3",
   "language": "python",
   "name": "python3"
  },
  "language_info": {
   "codemirror_mode": {
    "name": "ipython",
    "version": 3
   },
   "file_extension": ".py",
   "mimetype": "text/x-python",
   "name": "python",
   "nbconvert_exporter": "python",
   "pygments_lexer": "ipython3",
   "version": "3.7.0"
  }
 },
 "nbformat": 4,
 "nbformat_minor": 2
}
